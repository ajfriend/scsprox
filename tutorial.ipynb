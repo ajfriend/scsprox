{
 "cells": [
  {
   "cell_type": "markdown",
   "metadata": {},
   "source": [
    "# `scsprox` Tutorial\n",
    "\n",
    "`scsprox` creates fast proximal operators from CVXPY `Problem` objects.\n",
    "\n",
    "For this tutorial, we first create a simple CVXPY problem."
   ]
  },
  {
   "cell_type": "code",
   "execution_count": null,
   "metadata": {
    "collapsed": false,
    "jupyter": {
     "outputs_hidden": false
    }
   },
   "outputs": [],
   "source": [
    "import numpy as np\n",
    "import cvxpy as cp\n",
    "from numpy.random import default_rng\n",
    "\n",
    "m, n = 200, 100\n",
    "\n",
    "rng = default_rng()\n",
    "A = rng.standard_normal((m,n))\n",
    "b = rng.standard_normal(m)\n",
    "x = cp.Variable(n)\n",
    "\n",
    "prob = cp.Problem(cp.Minimize(cp.norm(A @ x - b)))\n",
    "prob.solve()\n",
    "\n",
    "# The \"true\" solution, as computed by CVXPY.\n",
    "x_true = np.array(x.value).flatten()\n",
    "print(\"The norm of the residual is {:.3e}.\".format(cp.norm(A @ x - b, p=2).value))"
   ]
  },
  {
   "cell_type": "markdown",
   "metadata": {},
   "source": [
    "# Form the `Prox` object\n",
    "\n",
    "`scsprox` provides a single object, `Prox`.\n",
    "\n",
    "We create a `Prox` object by passing in a CVXPY problem, `prob`, along with a dict, `prox_vars`, of the proximal variables.\n",
    "That is, if `'x'` is a key in `prox_vars`, then we add the proximal regularization $\\frac{\\rho}{2}\\|x-x_0 \\|_2^2$\n",
    "to the objective in `prob` to create the proximal problem.\n",
    "\n",
    "During initialization, the `Prox` object forms a CySCS `Workspace`, which computes and stores the SCS factorization (which only needs to be computed once).\n",
    "\n",
    "The `Prox` object accepts arbitrary CVXPY problems and any dict of related CVXPY variables to form the prox.\n",
    "\n",
    "We set `verbose=True` below to confirm that SCS performs its matrix factorization."
   ]
  },
  {
   "cell_type": "code",
   "execution_count": null,
   "metadata": {},
   "outputs": [],
   "source": [
    "# For use during development.\n",
    "#import sys\n",
    "#import os\n",
    "#sys.path.append(os.path.abspath('scsprox'))"
   ]
  },
  {
   "cell_type": "code",
   "execution_count": null,
   "metadata": {
    "collapsed": false,
    "jupyter": {
     "outputs_hidden": false
    }
   },
   "outputs": [],
   "source": [
    "%load_ext autoreload\n",
    "%autoreload 2\n",
    "\n",
    "from scsprox import Prox\n",
    "\n",
    "prox_vars = {'x': x}\n",
    "prox = Prox(prob, prox_vars, verbose=True)"
   ]
  },
  {
   "cell_type": "markdown",
   "metadata": {},
   "source": [
    "# Evaluate the prox\n",
    "\n",
    "Below, we'll evaluate the prox using the `Prox._do()` method on the input dict `x0` with `rho=1.0`.\n",
    "`x0` is a dictionary of variable names and values (matching the names and variable sizes in `prox_vars`).\n",
    "\n",
    "Note that SCS **doesn't** initialize, because the factorization has been cached,\n",
    "and that this first call to `Prox._do()` takes 40 iterations.\n",
    "\n",
    "Again, we make sure `verbose=True` to see the SCS status output."
   ]
  },
  {
   "cell_type": "code",
   "execution_count": null,
   "metadata": {
    "collapsed": false,
    "jupyter": {
     "outputs_hidden": false
    }
   },
   "outputs": [],
   "source": [
    "x0 = {'x': np.zeros(n)}\n",
    "rho = 1.0\n",
    "x1 = prox(x0, rho, verbose=True)"
   ]
  },
  {
   "cell_type": "markdown",
   "metadata": {},
   "source": [
    "# Prox status\n",
    "\n",
    "We can see a `dict` of `Prox` status information with `Prox.info`:"
   ]
  },
  {
   "cell_type": "code",
   "execution_count": null,
   "metadata": {
    "collapsed": false,
    "jupyter": {
     "outputs_hidden": false
    }
   },
   "outputs": [],
   "source": [
    "prox.info"
   ]
  },
  {
   "cell_type": "markdown",
   "metadata": {},
   "source": [
    "# Automatic warm-starting\n",
    "\n",
    "If we call `prox._do()` again, we can take advantage of warm-starting.\n",
    "With the same `x0` and `rho` values, we see that the prox completes in 0 SCS iterations!\n",
    "\n",
    "This is because the SCS solution from the previous `Prox._do()` call is used to warm-start this call.\n",
    "Since `x0` and `rho` are the same, the SCS problem is identical, and no further iterations are needed."
   ]
  },
  {
   "cell_type": "code",
   "execution_count": null,
   "metadata": {
    "collapsed": false,
    "jupyter": {
     "outputs_hidden": false
    },
    "scrolled": true
   },
   "outputs": [],
   "source": [
    "x0 = {'x': np.zeros(n)}\n",
    "rho = 1.0\n",
    "x1 = prox._do(x0, rho, verbose=True)"
   ]
  },
  {
   "cell_type": "markdown",
   "metadata": {},
   "source": [
    "# More realistic warm-starting\n",
    "\n",
    "Of course, we usually won't try to compute the prox on exactly the same value, but instead, a slight perturbation of that value. Warm-starting still helps in this case, and still works automatically.\n",
    "\n",
    "To see this, we call `Prox.do()` on `x1`, the output of the first prox computation.\n",
    "SCS is warm-started from the previous solution, which will tend to reduce the number of iterations needed."
   ]
  },
  {
   "cell_type": "code",
   "execution_count": null,
   "metadata": {
    "collapsed": false,
    "jupyter": {
     "outputs_hidden": false
    },
    "scrolled": true
   },
   "outputs": [],
   "source": [
    "x2 = prox._do(x1, 1.0)"
   ]
  },
  {
   "cell_type": "markdown",
   "metadata": {},
   "source": [
    "Note that the `Prox.info` dict has been updated."
   ]
  },
  {
   "cell_type": "code",
   "execution_count": null,
   "metadata": {
    "collapsed": false,
    "jupyter": {
     "outputs_hidden": false
    }
   },
   "outputs": [],
   "source": [
    "prox.info"
   ]
  },
  {
   "cell_type": "markdown",
   "metadata": {},
   "source": [
    "# Proximal iteration\n",
    "\n",
    "As an example application, we can solve the original CVXPY problem through proximal iteration.\n",
    "This involves repeated application of the prox operator."
   ]
  },
  {
   "cell_type": "code",
   "execution_count": null,
   "metadata": {
    "collapsed": false,
    "jupyter": {
     "outputs_hidden": false
    }
   },
   "outputs": [],
   "source": [
    "for i in range(20):\n",
    "    x0 = prox._do(x0, 1.0, verbose=False)"
   ]
  },
  {
   "cell_type": "markdown",
   "metadata": {},
   "source": [
    "Note that, after several iterations, proximal iteration converges, and the SCS solver finishes in **0** iterations."
   ]
  },
  {
   "cell_type": "code",
   "execution_count": null,
   "metadata": {
    "collapsed": false,
    "jupyter": {
     "outputs_hidden": false
    },
    "scrolled": true
   },
   "outputs": [],
   "source": [
    "prox.info"
   ]
  },
  {
   "cell_type": "markdown",
   "metadata": {},
   "source": [
    "# Resetting warm-starting\n",
    "\n",
    "We can also reset the internal warm-start vector to zero, by calling `Prox.reset_warm_start()`."
   ]
  },
  {
   "cell_type": "code",
   "execution_count": null,
   "metadata": {
    "collapsed": false,
    "jupyter": {
     "outputs_hidden": false
    }
   },
   "outputs": [],
   "source": [
    "prox._do(x0)\n",
    "prox.info"
   ]
  },
  {
   "cell_type": "markdown",
   "metadata": {},
   "source": [
    "Note that calling `Prox.reset_warm_start()` increases the number of SCS iterations required to find the solution."
   ]
  },
  {
   "cell_type": "code",
   "execution_count": null,
   "metadata": {
    "collapsed": false,
    "jupyter": {
     "outputs_hidden": false
    }
   },
   "outputs": [],
   "source": [
    "prox.reset_warm_start()\n",
    "prox._do(x0, verbose=False)\n",
    "prox.info"
   ]
  },
  {
   "cell_type": "markdown",
   "metadata": {},
   "source": [
    "# Prox zero element\n",
    "\n",
    "The `Prox` object is aware of its input variable names and sizes.\n",
    "If we call `Prox.do()` without specifying `x0`, or setting it to `{}` or `None`,\n",
    "the `Prox` object will automatically replace `x0` with the zero element of the\n",
    "appropriate size, which the user can also access through `Prox.zero_elem`."
   ]
  },
  {
   "cell_type": "code",
   "execution_count": null,
   "metadata": {
    "collapsed": false,
    "jupyter": {
     "outputs_hidden": false
    }
   },
   "outputs": [],
   "source": [
    "x0 = prox._do(verbose=True)"
   ]
  },
  {
   "cell_type": "code",
   "execution_count": null,
   "metadata": {
    "collapsed": false,
    "jupyter": {
     "outputs_hidden": false
    }
   },
   "outputs": [],
   "source": [
    "prox.zero_elem"
   ]
  },
  {
   "cell_type": "markdown",
   "metadata": {},
   "source": [
    "# SCS settings\n",
    "\n",
    "CySCS solver settings can be passed to the `Prox` object either during initialization or through `Prox.do()` as keyword arguments. We've already seen this with the `verbose=True` setting.\n",
    "\n",
    "Some other common settings are to set the solver tolerance and the maximum number of iterations.\n",
    "\n",
    "Settings set by the `Prox` constructor or `Prox.do()` persist until explicitly modified again."
   ]
  },
  {
   "cell_type": "code",
   "execution_count": null,
   "metadata": {
    "collapsed": false,
    "jupyter": {
     "outputs_hidden": false
    }
   },
   "outputs": [],
   "source": [
    "x0 = prox._do(eps=1e-9, verbose=True)"
   ]
  },
  {
   "cell_type": "code",
   "execution_count": null,
   "metadata": {
    "collapsed": false,
    "jupyter": {
     "outputs_hidden": false
    }
   },
   "outputs": [],
   "source": [
    "prox.info"
   ]
  },
  {
   "cell_type": "markdown",
   "metadata": {},
   "source": [
    "# Problems with several variables\n",
    "\n",
    "Many problems have more than one array variable for which we'd like to add proximal regularization.\n",
    "These variables simply need to be named, and included in the `prox_vars` dict input to `Prox(prob, prox_vars)` constructor."
   ]
  },
  {
   "cell_type": "code",
   "execution_count": null,
   "metadata": {
    "tags": []
   },
   "outputs": [],
   "source": [
    "m, n = 10, 5\n",
    "\n",
    "A = np.random.randn(m,n)\n",
    "b = np.random.randn(m)\n",
    "\n",
    "x = cp.Variable(n)\n",
    "y = cp.Variable(m)\n",
    "z = cp.Variable()\n",
    "\n",
    "obj = cp.sum_squares(A @ x - b) + cp.norm(A.T @ y - x) + 0.1 * cp.norm(y) + cp.norm(z-y)\n",
    "\n",
    "prob = cp.Problem(cp.Minimize(obj))"
   ]
  },
  {
   "cell_type": "code",
   "execution_count": null,
   "metadata": {
    "collapsed": false,
    "jupyter": {
     "outputs_hidden": false
    }
   },
   "outputs": [],
   "source": [
    "prox_vars = dict(x=x,y=y,z=z)\n",
    "prox = Prox(prob, prox_vars)"
   ]
  },
  {
   "cell_type": "markdown",
   "metadata": {},
   "source": [
    "Note that the output to `Prox.do()` is a dict with keys `'x'`, `'y'`, and `'z'`.\n",
    "\n",
    "`'x'` and `'y'` correspond to `numpy.array` objects, while `'z'` is simply a Python `float`."
   ]
  },
  {
   "cell_type": "code",
   "execution_count": null,
   "metadata": {
    "collapsed": false,
    "jupyter": {
     "outputs_hidden": false
    }
   },
   "outputs": [],
   "source": [
    "prox._do()"
   ]
  },
  {
   "cell_type": "markdown",
   "metadata": {},
   "source": [
    "# Many proxes in parallel\n",
    "\n",
    "Since the underlying CySCS solver releases the Python GIL, we can evaluate many prox operators in parallel using multiple threads. Threads consume less memory than separate Python processes, and do not require data serialization to communicate between processes.\n",
    "\n",
    "To see this in action, we'll first create several CVXPY problems and their prox operators."
   ]
  },
  {
   "cell_type": "code",
   "execution_count": null,
   "metadata": {
    "tags": []
   },
   "outputs": [],
   "source": [
    "m, n = 600, 400\n",
    "k = 10\n",
    "np.random.seed(0)\n",
    "\n",
    "x = cp.Variable(n)\n",
    "xvars = {'x': x}\n",
    "\n",
    "proxes = []\n",
    "for _ in range(k):\n",
    "    A = np.random.randn(m,n)\n",
    "    b = np.random.randn(m)\n",
    "    prob = cp.Problem(cp.Minimize(cp.norm(A @ x - b)))\n",
    "    \n",
    "    proxes += [Prox(prob,xvars, eps=1e-9)]"
   ]
  },
  {
   "cell_type": "markdown",
   "metadata": {},
   "source": [
    "We'll use the Python `concurrent.futures` module for our parallel computation.\n",
    "The module provides a `ThreadPoolExecutor` which has a `map()` method which distributes the computation across multiple threads.\n",
    "\n",
    "`concurrent.futures` is part of the Python 3 standard library, and is backported to Python 2 via th\n",
    "\n",
    "To use this interface, we define a simple function `do()` to map over our list of proxes, which does nothing more\n",
    "than call the `Prox.do()` method. We would need only a slightly more complicated function to pass in specific `x0` values to each prox."
   ]
  },
  {
   "cell_type": "code",
   "execution_count": null,
   "metadata": {
    "tags": []
   },
   "outputs": [],
   "source": [
    "def do(prox):\n",
    "    return prox._do()"
   ]
  },
  {
   "cell_type": "markdown",
   "metadata": {},
   "source": [
    "We create a `ThreadPoolExecutor` with 2 threads, and ensure that the warm-start is reset."
   ]
  },
  {
   "cell_type": "code",
   "execution_count": null,
   "metadata": {
    "collapsed": false,
    "jupyter": {
     "outputs_hidden": false
    }
   },
   "outputs": [],
   "source": [
    "from concurrent.futures import ThreadPoolExecutor\n",
    "\n",
    "ex = ThreadPoolExecutor(2)\n",
    "\n",
    "for prox in proxes:\n",
    "    prox.reset_warm_start()"
   ]
  },
  {
   "cell_type": "markdown",
   "metadata": {},
   "source": [
    "We can do the classic (non-parallel) computation by using the Python builtin `map()` function.\n",
    "\n",
    "Note that this code is equivalent to the list comprehension\n",
    "\n",
    "```python\n",
    "output = [prox.do() for prox in proxes]\n",
    "```\n",
    "\n",
    "or the for loop\n",
    "\n",
    "```python\n",
    "output = []\n",
    "for prox in proxes:\n",
    "    output += [prox.do()]\n",
    "```\n",
    "\n",
    "We write it as a `map` here because its form is identical to the upcoming parallel computation.\n",
    "\n",
    "We can time the cell to note the total wall clock time."
   ]
  },
  {
   "cell_type": "code",
   "execution_count": null,
   "metadata": {
    "collapsed": false,
    "jupyter": {
     "outputs_hidden": false
    }
   },
   "outputs": [],
   "source": [
    "%%time\n",
    "output = list(map(do, proxes))"
   ]
  },
  {
   "cell_type": "markdown",
   "metadata": {},
   "source": [
    "Making sure to reset the warm-start variables, we can do the computation in parallel by simply replacing\n",
    "`map()` with `ex.map()`.\n",
    "\n",
    "Note that the wall clock time is reduced, since we distribute the computation across two threads (on a dual-core machine)."
   ]
  },
  {
   "cell_type": "code",
   "execution_count": null,
   "metadata": {
    "tags": []
   },
   "outputs": [],
   "source": [
    "for prox in proxes:\n",
    "    prox.reset_warm_start()"
   ]
  },
  {
   "cell_type": "code",
   "execution_count": null,
   "metadata": {
    "collapsed": false,
    "jupyter": {
     "outputs_hidden": false
    }
   },
   "outputs": [],
   "source": [
    "%%time\n",
    "output = list(ex.map(do, proxes))"
   ]
  },
  {
   "cell_type": "markdown",
   "metadata": {},
   "source": [
    "We can see that the sum of the SCS computation times is about twice the parallel wall clock time, which is exactly what we'd expect!"
   ]
  },
  {
   "cell_type": "code",
   "execution_count": null,
   "metadata": {
    "collapsed": false,
    "jupyter": {
     "outputs_hidden": false
    }
   },
   "outputs": [],
   "source": [
    "sum(prox.info['solve_time'] for prox in proxes)"
   ]
  }
 ],
 "metadata": {
  "kernelspec": {
   "display_name": "Python 3",
   "language": "python",
   "name": "python3"
  },
  "language_info": {
   "codemirror_mode": {
    "name": "ipython",
    "version": 3
   },
   "file_extension": ".py",
   "mimetype": "text/x-python",
   "name": "python",
   "nbconvert_exporter": "python",
   "pygments_lexer": "ipython3",
   "version": "3.8.8"
  }
 },
 "nbformat": 4,
 "nbformat_minor": 4
}
